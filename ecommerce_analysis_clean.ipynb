{
 "cells": [
  {
   "cell_type": "markdown",
   "id": "439eae0e",
   "metadata": {},
   "source": [
    "# E-commerce Customer Analysis\n",
    "\n",
    "Brazilian E-commerce Public Dataset\n",
    "\n",
    "Author: Christos Papakostas"
   ]
  },
  {
   "cell_type": "markdown",
   "id": "0b7f70b3",
   "metadata": {},
   "source": [
    "## 1. Load and Prepare Data"
   ]
  },
  {
   "cell_type": "code",
   "execution_count": null,
   "id": "16033e90",
   "metadata": {},
   "outputs": [],
   "source": [
    "import pandas as pd\n",
    "import numpy as np\n",
    "import matplotlib.pyplot as plt\n",
    "import seaborn as sns\n",
    "from wordcloud import WordCloud\n",
    "from textblob import TextBlob\n",
    "\n",
    "# Load datasets (example)\n",
    "orders = pd.read_csv('olist_orders_dataset.csv', parse_dates=['order_purchase_timestamp', 'order_approved_at', 'order_delivered_carrier_date', 'order_delivered_customer_date', 'order_estimated_delivery_date'])\n",
    "order_items = pd.read_csv('olist_order_items_dataset.csv')\n",
    "payments = pd.read_csv('olist_order_payments_dataset.csv')\n",
    "customers = pd.read_csv('olist_customers_dataset.csv')\n",
    "products = pd.read_csv('olist_products_dataset.csv')\n",
    "reviews = pd.read_csv('olist_order_reviews_dataset.csv', parse_dates=['review_creation_date', 'review_answer_timestamp'])"
   ]
  },
  {
   "cell_type": "markdown",
   "id": "52737358",
   "metadata": {},
   "source": [
    "## 2. Feature Engineering (Delivery & Delay)"
   ]
  },
  {
   "cell_type": "code",
   "execution_count": null,
   "id": "b8340fe0",
   "metadata": {},
   "outputs": [],
   "source": [
    "# Delivery timing\n",
    "delivered_orders = orders[orders['order_status'] == 'delivered'].copy()\n",
    "delivered_orders['delivery_days'] = (delivered_orders['order_delivered_customer_date'] - delivered_orders['order_purchase_timestamp']).dt.days\n",
    "delivered_orders['estimated_days'] = (delivered_orders['order_estimated_delivery_date'] - delivered_orders['order_purchase_timestamp']).dt.days\n",
    "delivered_orders['delay'] = delivered_orders['delivery_days'] - delivered_orders['estimated_days']"
   ]
  },
  {
   "cell_type": "markdown",
   "id": "ef720c2b",
   "metadata": {},
   "source": [
    "## 3. RFM Segmentation"
   ]
  },
  {
   "cell_type": "code",
   "execution_count": null,
   "id": "585ffd22",
   "metadata": {},
   "outputs": [],
   "source": [
    "# Assuming merged dataset contains order_purchase_timestamp, payment_value, order_id\n",
    "latest_date = delivered_orders['order_purchase_timestamp'].max()\n",
    "\n",
    "rfm_data = delivered_orders.merge(payments, on='order_id')\n",
    "rfm = rfm_data.groupby('customer_unique_id').agg({\n",
    "    'order_purchase_timestamp': lambda x: (latest_date - x.max()).days,\n",
    "    'order_id': 'count',\n",
    "    'payment_value': 'sum'\n",
    "}).reset_index()\n",
    "\n",
    "rfm.columns = ['customer_unique_id', 'recency', 'frequency', 'monetary']\n",
    "\n",
    "rfm['r_score'] = pd.qcut(rfm['recency'], 5, labels=[5,4,3,2,1])\n",
    "rfm['f_score'] = pd.qcut(rfm['frequency'].rank(method='first'), 5, labels=[1,2,3,4,5])\n",
    "rfm['m_score'] = pd.qcut(rfm['monetary'], 5, labels=[1,2,3,4,5])\n",
    "rfm['rfm_score'] = rfm['r_score'].astype(str) + rfm['f_score'].astype(str) + rfm['m_score'].astype(str)"
   ]
  },
  {
   "cell_type": "markdown",
   "id": "da0aa56b",
   "metadata": {},
   "source": [
    "## 4. Payment Type Analysis"
   ]
  },
  {
   "cell_type": "code",
   "execution_count": null,
   "id": "3cddcb79",
   "metadata": {},
   "outputs": [],
   "source": [
    "payment_avg = payments.groupby('payment_type')['payment_value'].mean().sort_values(ascending=False).reset_index()\n",
    "print(payment_avg)"
   ]
  },
  {
   "cell_type": "markdown",
   "id": "d7ca8701",
   "metadata": {},
   "source": [
    "## 5. Review Sentiment"
   ]
  },
  {
   "cell_type": "code",
   "execution_count": null,
   "id": "6662d0fb",
   "metadata": {},
   "outputs": [],
   "source": [
    "reviews['has_comment'] = reviews['review_comment_message'].notna()\n",
    "reviews['polarity'] = reviews['review_comment_message'].dropna().apply(lambda x: TextBlob(x).sentiment.polarity)"
   ]
  }
 ],
 "metadata": {},
 "nbformat": 4,
 "nbformat_minor": 5
}
