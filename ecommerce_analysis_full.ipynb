{
 "cells": [
  {
   "cell_type": "markdown",
   "id": "90777d82",
   "metadata": {},
   "source": [
    "# Brazilian E-commerce Public Dataset – Complete Project Notebook\n",
    "\n",
    "**Author:** Christos Papakostas\n",
    "\n",
    "This notebook contains the full workflow of the customer analytics project based on the Brazilian e-commerce dataset."
   ]
  },
  {
   "cell_type": "markdown",
   "id": "e2be6fa6",
   "metadata": {},
   "source": [
    "## 1. Load Data"
   ]
  },
  {
   "cell_type": "code",
   "execution_count": null,
   "id": "4271fe13",
   "metadata": {},
   "outputs": [],
   "source": [
    "import pandas as pd\n",
    "import numpy as np\n",
    "import matplotlib.pyplot as plt\n",
    "import seaborn as sns\n",
    "from wordcloud import WordCloud\n",
    "from textblob import TextBlob\n",
    "\n",
    "# Load datasets\n",
    "orders = pd.read_csv('olist_orders_dataset.csv', parse_dates=['order_purchase_timestamp', 'order_approved_at', 'order_delivered_carrier_date', 'order_delivered_customer_date', 'order_estimated_delivery_date'])\n",
    "order_items = pd.read_csv('olist_order_items_dataset.csv')\n",
    "payments = pd.read_csv('olist_order_payments_dataset.csv')\n",
    "customers = pd.read_csv('olist_customers_dataset.csv')\n",
    "products = pd.read_csv('olist_products_dataset.csv')\n",
    "reviews = pd.read_csv('olist_order_reviews_dataset.csv', parse_dates=['review_creation_date', 'review_answer_timestamp'])\n",
    "categories = pd.read_csv('product_category_name_translation.csv')"
   ]
  },
  {
   "cell_type": "markdown",
   "id": "d91cd217",
   "metadata": {},
   "source": [
    "## 2. Inspect Missing Values"
   ]
  },
  {
   "cell_type": "code",
   "execution_count": null,
   "id": "4702c415",
   "metadata": {},
   "outputs": [],
   "source": [
    "orders.isna().sum()\n",
    "products.isna().sum()\n",
    "reviews.isna().sum()\n",
    "payments.isna().sum()\n",
    "order_items.isna().sum()\n",
    "customers.isna().sum()"
   ]
  },
  {
   "cell_type": "markdown",
   "id": "4b4e661d",
   "metadata": {},
   "source": [
    "## 3. Merge Datasets"
   ]
  },
  {
   "cell_type": "code",
   "execution_count": null,
   "id": "f36cc88f",
   "metadata": {},
   "outputs": [],
   "source": [
    "# Merge orders with customers\n",
    "orders_customers = orders.merge(customers, on='customer_id', how='left')\n",
    "\n",
    "# Merge orders with payments\n",
    "orders_payments = orders.merge(payments, on='order_id', how='left')\n",
    "\n",
    "# Merge order_items with products\n",
    "items_products = order_items.merge(products, on='product_id', how='left').merge(categories, on='product_category_name', how='left')\n",
    "\n",
    "# Merge reviews\n",
    "orders_reviews = orders.merge(reviews, on='order_id', how='left')\n",
    "\n",
    "# Full merge\n",
    "df = orders.merge(order_items, on='order_id', how='left')\\\n",
    "         .merge(products, on='product_id', how='left')\\\n",
    "         .merge(categories, on='product_category_name', how='left')\\\n",
    "         .merge(payments, on='order_id', how='left')\\\n",
    "         .merge(customers, on='customer_id', how='left')\\\n",
    "         .merge(reviews, on='order_id', how='left')"
   ]
  },
  {
   "cell_type": "markdown",
   "id": "3d209445",
   "metadata": {},
   "source": [
    "## 4. Delivery Analysis"
   ]
  },
  {
   "cell_type": "code",
   "execution_count": null,
   "id": "3e84fb14",
   "metadata": {},
   "outputs": [],
   "source": [
    "delivered_orders = df[df['order_status'] == 'delivered'].copy()\n",
    "delivered_orders['delivery_days'] = (delivered_orders['order_delivered_customer_date'] - delivered_orders['order_purchase_timestamp']).dt.days\n",
    "delivered_orders['estimated_days'] = (delivered_orders['order_estimated_delivery_date'] - delivered_orders['order_purchase_timestamp']).dt.days\n",
    "delivered_orders['delay'] = delivered_orders['delivery_days'] - delivered_orders['estimated_days']\n",
    "\n",
    "# Save plot\n",
    "plt.figure(figsize=(10,5))\n",
    "sns.histplot(delivered_orders['delay'], bins=50)\n",
    "plt.title('Distribution of Delivery Delay')\n",
    "plt.xlabel('Days of Delay')\n",
    "plt.ylabel('Number of Orders')\n",
    "plt.tight_layout()\n",
    "plt.savefig('images/delivery_delay_hist.png')\n",
    "plt.show()"
   ]
  },
  {
   "cell_type": "markdown",
   "id": "26c0e25e",
   "metadata": {},
   "source": [
    "## 5. RFM Segmentation"
   ]
  },
  {
   "cell_type": "code",
   "execution_count": null,
   "id": "281e1dfb",
   "metadata": {},
   "outputs": [],
   "source": [
    "latest = delivered_orders['order_purchase_timestamp'].max()\n",
    "\n",
    "rfm_data = delivered_orders.groupby('customer_unique_id').agg({\n",
    "    'order_purchase_timestamp': lambda x: (latest - x.max()).days,\n",
    "    'order_id': 'count',\n",
    "    'payment_value': 'sum'\n",
    "}).reset_index()\n",
    "\n",
    "rfm_data.columns = ['customer_unique_id', 'recency', 'frequency', 'monetary']\n",
    "\n",
    "rfm_data['r_score'] = pd.qcut(rfm_data['recency'], 5, labels=[5,4,3,2,1])\n",
    "rfm_data['f_score'] = pd.qcut(rfm_data['frequency'].rank(method='first'), 5, labels=[1,2,3,4,5])\n",
    "rfm_data['m_score'] = pd.qcut(rfm_data['monetary'], 5, labels=[1,2,3,4,5])\n",
    "rfm_data['rfm_score'] = rfm_data['r_score'].astype(str) + rfm_data['f_score'].astype(str) + rfm_data['m_score'].astype(str)"
   ]
  },
  {
   "cell_type": "markdown",
   "id": "dbadc75f",
   "metadata": {},
   "source": [
    "## 6. Payment Method Analysis"
   ]
  },
  {
   "cell_type": "code",
   "execution_count": null,
   "id": "255ccd8d",
   "metadata": {},
   "outputs": [],
   "source": [
    "payment_summary = payments[payments['payment_type'] != 'not_defined']\n",
    "payment_avg_value = payment_summary.groupby('payment_type')['payment_value'].mean().reset_index()\n",
    "\n",
    "plt.figure(figsize=(8,5))\n",
    "sns.barplot(data=payment_avg_value, x='payment_value', y='payment_type')\n",
    "plt.title('Average Payment Value by Payment Type')\n",
    "plt.tight_layout()\n",
    "plt.savefig('images/payment_avg_value.png')\n",
    "plt.show()"
   ]
  },
  {
   "cell_type": "markdown",
   "id": "b7a65cf0",
   "metadata": {},
   "source": [
    "## 7. Review Sentiment"
   ]
  },
  {
   "cell_type": "code",
   "execution_count": null,
   "id": "2049e778",
   "metadata": {},
   "outputs": [],
   "source": [
    "df['has_comment'] = df['review_comment_message'].notna()\n",
    "df['polarity'] = df['review_comment_message'].dropna().apply(lambda x: TextBlob(x).sentiment.polarity)"
   ]
  }
 ],
 "metadata": {},
 "nbformat": 4,
 "nbformat_minor": 5
}
